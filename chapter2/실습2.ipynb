{
 "cells": [
  {
   "cell_type": "code",
   "execution_count": 1,
   "id": "af405049",
   "metadata": {
    "_cell_guid": "b1076dfc-b9ad-4769-8c92-a6c4dae69d19",
    "_uuid": "8f2839f25d086af736a60e9eeb907d3b93b6e0e5",
    "execution": {
     "iopub.execute_input": "2024-05-15T04:47:09.453593Z",
     "iopub.status.busy": "2024-05-15T04:47:09.452970Z",
     "iopub.status.idle": "2024-05-15T04:47:10.274534Z",
     "shell.execute_reply": "2024-05-15T04:47:10.273305Z"
    },
    "papermill": {
     "duration": 0.832143,
     "end_time": "2024-05-15T04:47:10.276891",
     "exception": false,
     "start_time": "2024-05-15T04:47:09.444748",
     "status": "completed"
    },
    "tags": []
   },
   "outputs": [
    {
     "name": "stdout",
     "output_type": "stream",
     "text": [
      "/kaggle/input/etfs-main/ETFs_main.csv\n"
     ]
    }
   ],
   "source": [
    "# This Python 3 environment comes with many helpful analytics libraries installed\n",
    "# It is defined by the kaggle/python Docker image: https://github.com/kaggle/docker-python\n",
    "# For example, here's several helpful packages to load\n",
    "\n",
    "import numpy as np # linear algebra\n",
    "import pandas as pd # data processing, CSV file I/O (e.g. pd.read_csv)\n",
    "\n",
    "# Input data files are available in the read-only \"../input/\" directory\n",
    "# For example, running this (by clicking run or pressing Shift+Enter) will list all files under the input directory\n",
    "\n",
    "import os\n",
    "for dirname, _, filenames in os.walk('/kaggle/input'):\n",
    "    for filename in filenames:\n",
    "        print(os.path.join(dirname, filename))\n",
    "\n",
    "# You can write up to 20GB to the current directory (/kaggle/working/) that gets preserved as output when you create a version using \"Save & Run All\" \n",
    "# You can also write temporary files to /kaggle/temp/, but they won't be saved outside of the current session"
   ]
  },
  {
   "cell_type": "code",
   "execution_count": 2,
   "id": "f9d224ca",
   "metadata": {
    "execution": {
     "iopub.execute_input": "2024-05-15T04:47:10.292457Z",
     "iopub.status.busy": "2024-05-15T04:47:10.292109Z",
     "iopub.status.idle": "2024-05-15T04:47:12.222353Z",
     "shell.execute_reply": "2024-05-15T04:47:12.221546Z"
    },
    "papermill": {
     "duration": 1.940268,
     "end_time": "2024-05-15T04:47:12.224708",
     "exception": false,
     "start_time": "2024-05-15T04:47:10.284440",
     "status": "completed"
    },
    "tags": []
   },
   "outputs": [],
   "source": [
    "import warnings\n",
    "import glob\n",
    "import os\n",
    "import datetime\n",
    "import matplotlib.pyplot as plt\n",
    "import pandas as pd\n",
    "import numpy as np\n",
    "from sklearn import preprocessing\n",
    "from sklearn.preprocessing import StandardScaler\n",
    "from sklearn.model_selection import train_test_split\n",
    "from sklearn.model_selection import cross_validate\n",
    "from sklearn.model_selection import TimeSeriesSplit\n",
    "from sklearn.model_selection import GridSearchCV\n",
    "from sklearn.linear_model import LinearRegression\n",
    "from sklearn.ensemble import RandomForestClassifier\n",
    "from xgboost import XGBClassifier\n",
    "from xgboost import plot_importance\n",
    "from sklearn.metrics import f1_score\n",
    "from sklearn.metrics import mean_squared_error, r2_score\n",
    "from sklearn.metrics import accuracy_score\n",
    "from sklearn.metrics import confusion_matrix, accuracy_score, precision_score, recall_score, f1_score, roc_auc_score\n",
    "from sklearn import svm\n",
    "import seaborn as sns; sns.set()\n"
   ]
  },
  {
   "cell_type": "code",
   "execution_count": 3,
   "id": "10a199bf",
   "metadata": {
    "execution": {
     "iopub.execute_input": "2024-05-15T04:47:12.239146Z",
     "iopub.status.busy": "2024-05-15T04:47:12.238839Z",
     "iopub.status.idle": "2024-05-15T04:47:12.267754Z",
     "shell.execute_reply": "2024-05-15T04:47:12.266785Z"
    },
    "papermill": {
     "duration": 0.038606,
     "end_time": "2024-05-15T04:47:12.270056",
     "exception": false,
     "start_time": "2024-05-15T04:47:12.231450",
     "status": "completed"
    },
    "tags": []
   },
   "outputs": [],
   "source": [
    "df = pd.read_csv('/kaggle/input/etfs-main/ETFs_main.csv')"
   ]
  },
  {
   "cell_type": "code",
   "execution_count": 4,
   "id": "04dbc78a",
   "metadata": {
    "execution": {
     "iopub.execute_input": "2024-05-15T04:47:12.285937Z",
     "iopub.status.busy": "2024-05-15T04:47:12.285619Z",
     "iopub.status.idle": "2024-05-15T04:47:12.294389Z",
     "shell.execute_reply": "2024-05-15T04:47:12.293457Z"
    },
    "papermill": {
     "duration": 0.018661,
     "end_time": "2024-05-15T04:47:12.296250",
     "exception": false,
     "start_time": "2024-05-15T04:47:12.277589",
     "status": "completed"
    },
    "tags": []
   },
   "outputs": [],
   "source": [
    "\n",
    "# 기술적 지표 만들기\n",
    "def moving_average(df, n):\n",
    "    MA = pd.Series(df['CLOSE_SPY'].rolling(n, min_periods=n).mean(), name='MA_' + str(n))\n",
    "    df = df.join(MA)\n",
    "    return df\n",
    "\n",
    "def volume_moving_average(df, n):\n",
    "    VMA = pd.Series(df['VOLUME'].rolling(n, min_periods=n).mean(), name='VMA_' + str(n))\n",
    "    df = df.join(VMA)\n",
    "    return df\n",
    "\n",
    "def relative_strength_index(df, n):\n",
    "    delta = df['CLOSE_SPY'].diff()\n",
    "    gain = (delta.where(delta > 0, 0)).rolling(window=n).mean()\n",
    "    loss = (-delta.where(delta < 0, 0)).rolling(window=n).mean()\n",
    "    RS = gain / loss\n",
    "    RSI = 100 - (100 / (1 + RS))\n",
    "    RSI.name = 'RSI_' + str(n)\n",
    "    df = df.join(RSI)\n",
    "    return df"
   ]
  },
  {
   "cell_type": "code",
   "execution_count": 5,
   "id": "86cb9d50",
   "metadata": {
    "execution": {
     "iopub.execute_input": "2024-05-15T04:47:12.310257Z",
     "iopub.status.busy": "2024-05-15T04:47:12.309984Z",
     "iopub.status.idle": "2024-05-15T04:47:12.341933Z",
     "shell.execute_reply": "2024-05-15T04:47:12.340823Z"
    },
    "papermill": {
     "duration": 0.041267,
     "end_time": "2024-05-15T04:47:12.343927",
     "exception": false,
     "start_time": "2024-05-15T04:47:12.302660",
     "status": "completed"
    },
    "tags": []
   },
   "outputs": [
    {
     "name": "stdout",
     "output_type": "stream",
     "text": [
      "2727\n"
     ]
    }
   ],
   "source": [
    "# 기술 지표 적용\n",
    "df = moving_average(df, 45)\n",
    "df = volume_moving_average(df, 45)\n",
    "df = relative_strength_index(df, 14)\n",
    "\n",
    "# 'Dates' 열을 인덱스로 설정\n",
    "df = df.set_index('Dates')\n",
    "df = df.dropna()\n",
    "print(len(df))"
   ]
  },
  {
   "cell_type": "code",
   "execution_count": 6,
   "id": "34c3c119",
   "metadata": {
    "execution": {
     "iopub.execute_input": "2024-05-15T04:47:12.358537Z",
     "iopub.status.busy": "2024-05-15T04:47:12.357955Z",
     "iopub.status.idle": "2024-05-15T04:47:12.375778Z",
     "shell.execute_reply": "2024-05-15T04:47:12.374821Z"
    },
    "papermill": {
     "duration": 0.027302,
     "end_time": "2024-05-15T04:47:12.377833",
     "exception": false,
     "start_time": "2024-05-15T04:47:12.350531",
     "status": "completed"
    },
    "tags": []
   },
   "outputs": [
    {
     "name": "stdout",
     "output_type": "stream",
     "text": [
      "target\n",
      "1    1471\n",
      "0    1256\n",
      "Name: count, dtype: int64\n"
     ]
    }
   ],
   "source": [
    "# 타겟 변수 생성 (pct_change)\n",
    "df['pct_change'] = df['CLOSE_SPY'].pct_change()\n",
    "\n",
    "# 모델링을 위한 이진 분류 값 생성\n",
    "df['target'] = np.where(df['pct_change'] > 0, 1, 0)\n",
    "df = df.dropna(subset=['target'])  # 결측값 제거\n",
    "\n",
    "# 정수형 변환\n",
    "df['target'] = df['target'].astype(np.int64)\n",
    "\n",
    "print(df['target'].value_counts())"
   ]
  },
  {
   "cell_type": "code",
   "execution_count": 7,
   "id": "4f2b9ccb",
   "metadata": {
    "execution": {
     "iopub.execute_input": "2024-05-15T04:47:12.392495Z",
     "iopub.status.busy": "2024-05-15T04:47:12.392235Z",
     "iopub.status.idle": "2024-05-15T04:47:12.398718Z",
     "shell.execute_reply": "2024-05-15T04:47:12.397640Z"
    },
    "papermill": {
     "duration": 0.015893,
     "end_time": "2024-05-15T04:47:12.400778",
     "exception": false,
     "start_time": "2024-05-15T04:47:12.384885",
     "status": "completed"
    },
    "tags": []
   },
   "outputs": [
    {
     "name": "stdout",
     "output_type": "stream",
     "text": [
      "2725\n"
     ]
    }
   ],
   "source": [
    "# 다음날 예측을 위해 타겟 변수를 shift\n",
    "df['target'] = df['target'].shift(-1)\n",
    "df = df.dropna()\n",
    "print(len(df))"
   ]
  },
  {
   "cell_type": "code",
   "execution_count": 8,
   "id": "ff7d961b",
   "metadata": {
    "execution": {
     "iopub.execute_input": "2024-05-15T04:47:12.415995Z",
     "iopub.status.busy": "2024-05-15T04:47:12.415244Z",
     "iopub.status.idle": "2024-05-15T04:47:12.420355Z",
     "shell.execute_reply": "2024-05-15T04:47:12.419401Z"
    },
    "papermill": {
     "duration": 0.01509,
     "end_time": "2024-05-15T04:47:12.422594",
     "exception": false,
     "start_time": "2024-05-15T04:47:12.407504",
     "status": "completed"
    },
    "tags": []
   },
   "outputs": [],
   "source": [
    "# 설명 변수와 타겟 변수 분리\n",
    "y_var = df['target']\n",
    "x_var = df.drop(['target', 'OPEN', 'HIGH', 'LOW', 'VOLUME', 'CLOSE_SPY', 'pct_change'], axis=1)"
   ]
  },
  {
   "cell_type": "code",
   "execution_count": 9,
   "id": "c20f04c8",
   "metadata": {
    "execution": {
     "iopub.execute_input": "2024-05-15T04:47:12.437905Z",
     "iopub.status.busy": "2024-05-15T04:47:12.437252Z",
     "iopub.status.idle": "2024-05-15T04:47:12.443773Z",
     "shell.execute_reply": "2024-05-15T04:47:12.442743Z"
    },
    "papermill": {
     "duration": 0.015838,
     "end_time": "2024-05-15T04:47:12.445793",
     "exception": false,
     "start_time": "2024-05-15T04:47:12.429955",
     "status": "completed"
    },
    "tags": []
   },
   "outputs": [
    {
     "name": "stdout",
     "output_type": "stream",
     "text": [
      "up/down ratio: 0.54\n"
     ]
    }
   ],
   "source": [
    "# 상승과 하락 비율 확인\n",
    "up = df[df['target'] == 1].target.count()\n",
    "total = df.target.count()\n",
    "print('up/down ratio: {0:.2f}'.format(up / total))"
   ]
  },
  {
   "cell_type": "code",
   "execution_count": 10,
   "id": "86e4d695",
   "metadata": {
    "execution": {
     "iopub.execute_input": "2024-05-15T04:47:12.460500Z",
     "iopub.status.busy": "2024-05-15T04:47:12.460261Z",
     "iopub.status.idle": "2024-05-15T04:47:12.471475Z",
     "shell.execute_reply": "2024-05-15T04:47:12.470460Z"
    },
    "papermill": {
     "duration": 0.020808,
     "end_time": "2024-05-15T04:47:12.473706",
     "exception": false,
     "start_time": "2024-05-15T04:47:12.452898",
     "status": "completed"
    },
    "tags": []
   },
   "outputs": [
    {
     "name": "stdout",
     "output_type": "stream",
     "text": [
      "train set label ratio\n",
      "target\n",
      "1.0    0.543786\n",
      "0.0    0.456214\n",
      "Name: count, dtype: float64\n",
      "test set label ratio\n",
      "target\n",
      "1.0    0.530562\n",
      "0.0    0.469438\n",
      "Name: count, dtype: float64\n"
     ]
    }
   ],
   "source": [
    "# 훈련셋과 테스트셋 분할\n",
    "X_train, X_test, y_train, y_test = train_test_split(x_var, y_var, test_size=0.3, shuffle=False, random_state=3)\n",
    "\n",
    "# 훈련셋과 테스트셋의 양성 샘플 비율 확인\n",
    "train_count = y_train.count()\n",
    "test_count = y_test.count()\n",
    "\n",
    "print('train set label ratio')\n",
    "print(y_train.value_counts() / train_count)\n",
    "print('test set label ratio')\n",
    "print(y_test.value_counts() / test_count)\n"
   ]
  },
  {
   "cell_type": "code",
   "execution_count": 11,
   "id": "f7edb6f7",
   "metadata": {
    "execution": {
     "iopub.execute_input": "2024-05-15T04:47:12.488836Z",
     "iopub.status.busy": "2024-05-15T04:47:12.488583Z",
     "iopub.status.idle": "2024-05-15T04:47:12.508777Z",
     "shell.execute_reply": "2024-05-15T04:47:12.507903Z"
    },
    "papermill": {
     "duration": 0.02954,
     "end_time": "2024-05-15T04:47:12.510649",
     "exception": false,
     "start_time": "2024-05-15T04:47:12.481109",
     "status": "completed"
    },
    "tags": []
   },
   "outputs": [
    {
     "data": {
      "text/html": [
       "<div>\n",
       "<style scoped>\n",
       "    .dataframe tbody tr th:only-of-type {\n",
       "        vertical-align: middle;\n",
       "    }\n",
       "\n",
       "    .dataframe tbody tr th {\n",
       "        vertical-align: top;\n",
       "    }\n",
       "\n",
       "    .dataframe thead th {\n",
       "        text-align: right;\n",
       "    }\n",
       "</style>\n",
       "<table border=\"1\" class=\"dataframe\">\n",
       "  <thead>\n",
       "    <tr style=\"text-align: right;\">\n",
       "      <th></th>\n",
       "      <th>CLOSE_GLD</th>\n",
       "      <th>CLOSE_FXY</th>\n",
       "      <th>CLOSE_T10Y2Y</th>\n",
       "      <th>CLOSE_TED</th>\n",
       "      <th>CLOSE_USO</th>\n",
       "      <th>CLOSE_UUP</th>\n",
       "      <th>CLOSE_VIX</th>\n",
       "      <th>CLOSE_VWO</th>\n",
       "      <th>MA_45</th>\n",
       "      <th>VMA_45</th>\n",
       "      <th>RSI_14</th>\n",
       "    </tr>\n",
       "    <tr>\n",
       "      <th>Dates</th>\n",
       "      <th></th>\n",
       "      <th></th>\n",
       "      <th></th>\n",
       "      <th></th>\n",
       "      <th></th>\n",
       "      <th></th>\n",
       "      <th></th>\n",
       "      <th></th>\n",
       "      <th></th>\n",
       "      <th></th>\n",
       "      <th></th>\n",
       "    </tr>\n",
       "  </thead>\n",
       "  <tbody>\n",
       "    <tr>\n",
       "      <th>2007-04-30</th>\n",
       "      <td>67.09</td>\n",
       "      <td>83.7166</td>\n",
       "      <td>2.4361</td>\n",
       "      <td>0.57</td>\n",
       "      <td>51.24</td>\n",
       "      <td>24.49</td>\n",
       "      <td>14.22</td>\n",
       "      <td>40.935</td>\n",
       "      <td>143.601556</td>\n",
       "      <td>1.116466e+08</td>\n",
       "      <td>70.956720</td>\n",
       "    </tr>\n",
       "    <tr>\n",
       "      <th>2007-05-02</th>\n",
       "      <td>66.66</td>\n",
       "      <td>83.3800</td>\n",
       "      <td>2.4366</td>\n",
       "      <td>0.59</td>\n",
       "      <td>49.59</td>\n",
       "      <td>24.66</td>\n",
       "      <td>13.08</td>\n",
       "      <td>42.020</td>\n",
       "      <td>143.680667</td>\n",
       "      <td>1.121613e+08</td>\n",
       "      <td>79.237288</td>\n",
       "    </tr>\n",
       "    <tr>\n",
       "      <th>2007-05-03</th>\n",
       "      <td>67.49</td>\n",
       "      <td>83.1100</td>\n",
       "      <td>2.4346</td>\n",
       "      <td>0.60</td>\n",
       "      <td>49.28</td>\n",
       "      <td>24.69</td>\n",
       "      <td>13.09</td>\n",
       "      <td>42.435</td>\n",
       "      <td>143.780222</td>\n",
       "      <td>1.123421e+08</td>\n",
       "      <td>79.604579</td>\n",
       "    </tr>\n",
       "    <tr>\n",
       "      <th>2007-05-04</th>\n",
       "      <td>68.19</td>\n",
       "      <td>83.2300</td>\n",
       "      <td>2.4006</td>\n",
       "      <td>0.60</td>\n",
       "      <td>48.30</td>\n",
       "      <td>24.60</td>\n",
       "      <td>12.91</td>\n",
       "      <td>42.595</td>\n",
       "      <td>143.905111</td>\n",
       "      <td>1.128853e+08</td>\n",
       "      <td>79.411765</td>\n",
       "    </tr>\n",
       "    <tr>\n",
       "      <th>2007-05-08</th>\n",
       "      <td>67.88</td>\n",
       "      <td>83.3700</td>\n",
       "      <td>2.3913</td>\n",
       "      <td>0.60</td>\n",
       "      <td>48.64</td>\n",
       "      <td>24.73</td>\n",
       "      <td>13.21</td>\n",
       "      <td>42.360</td>\n",
       "      <td>144.029111</td>\n",
       "      <td>1.131357e+08</td>\n",
       "      <td>74.368231</td>\n",
       "    </tr>\n",
       "  </tbody>\n",
       "</table>\n",
       "</div>"
      ],
      "text/plain": [
       "            CLOSE_GLD  CLOSE_FXY  CLOSE_T10Y2Y  CLOSE_TED  CLOSE_USO  \\\n",
       "Dates                                                                  \n",
       "2007-04-30      67.09    83.7166        2.4361       0.57      51.24   \n",
       "2007-05-02      66.66    83.3800        2.4366       0.59      49.59   \n",
       "2007-05-03      67.49    83.1100        2.4346       0.60      49.28   \n",
       "2007-05-04      68.19    83.2300        2.4006       0.60      48.30   \n",
       "2007-05-08      67.88    83.3700        2.3913       0.60      48.64   \n",
       "\n",
       "            CLOSE_UUP  CLOSE_VIX  CLOSE_VWO       MA_45        VMA_45  \\\n",
       "Dates                                                                   \n",
       "2007-04-30      24.49      14.22     40.935  143.601556  1.116466e+08   \n",
       "2007-05-02      24.66      13.08     42.020  143.680667  1.121613e+08   \n",
       "2007-05-03      24.69      13.09     42.435  143.780222  1.123421e+08   \n",
       "2007-05-04      24.60      12.91     42.595  143.905111  1.128853e+08   \n",
       "2007-05-08      24.73      13.21     42.360  144.029111  1.131357e+08   \n",
       "\n",
       "               RSI_14  \n",
       "Dates                  \n",
       "2007-04-30  70.956720  \n",
       "2007-05-02  79.237288  \n",
       "2007-05-03  79.604579  \n",
       "2007-05-04  79.411765  \n",
       "2007-05-08  74.368231  "
      ]
     },
     "execution_count": 11,
     "metadata": {},
     "output_type": "execute_result"
    }
   ],
   "source": [
    "x_var.head( )"
   ]
  },
  {
   "cell_type": "code",
   "execution_count": 12,
   "id": "e954738b",
   "metadata": {
    "execution": {
     "iopub.execute_input": "2024-05-15T04:47:12.526967Z",
     "iopub.status.busy": "2024-05-15T04:47:12.526329Z",
     "iopub.status.idle": "2024-05-15T04:47:12.531742Z",
     "shell.execute_reply": "2024-05-15T04:47:12.530928Z"
    },
    "papermill": {
     "duration": 0.015227,
     "end_time": "2024-05-15T04:47:12.533658",
     "exception": false,
     "start_time": "2024-05-15T04:47:12.518431",
     "status": "completed"
    },
    "tags": []
   },
   "outputs": [],
   "source": [
    "#혼동 행렬 및 성능 평가 함수\n",
    "def get_confusion_matrix(y_test, pred):\n",
    "    confusion = confusion_matrix(y_test, pred)\n",
    "    accuracy = accuracy_score(y_test, pred)\n",
    "    precision = precision_score(y_test, pred)\n",
    "    recall = recall_score(y_test, pred)\n",
    "    f1 = f1_score(y_test, pred)\n",
    "    roc_score = roc_auc_score(y_test, pred)\n",
    "    print('confusion matrix')\n",
    "    print(confusion)\n",
    "    print('accuracy: {0:.4f}, precision: {1:.4f}, recall: {2:.4f}, F1: {3:.4f}, ROC AUC score: {4:.4f}'.format(\n",
    "        accuracy, precision, recall, f1, roc_score))\n"
   ]
  },
  {
   "cell_type": "code",
   "execution_count": 13,
   "id": "4c98099d",
   "metadata": {
    "execution": {
     "iopub.execute_input": "2024-05-15T04:47:12.548746Z",
     "iopub.status.busy": "2024-05-15T04:47:12.548505Z",
     "iopub.status.idle": "2024-05-15T04:47:12.906884Z",
     "shell.execute_reply": "2024-05-15T04:47:12.905896Z"
    },
    "papermill": {
     "duration": 0.368588,
     "end_time": "2024-05-15T04:47:12.909317",
     "exception": false,
     "start_time": "2024-05-15T04:47:12.540729",
     "status": "completed"
    },
    "tags": []
   },
   "outputs": [
    {
     "name": "stdout",
     "output_type": "stream",
     "text": [
      "0.8479286837965391\n",
      "confusion matrix\n",
      "[[333  51]\n",
      " [358  76]]\n",
      "accuracy: 0.5000, precision: 0.5984, recall: 0.1751, F1: 0.2709, ROC AUC score: 0.5212\n"
     ]
    }
   ],
   "source": [
    "#모델 학습 및 평가\n",
    "# XGBoost 모델 학습 및 예측\n",
    "xgb_dis = XGBClassifier(n_estimators=400, learning_rate=0.1, max_depth=3)\n",
    "xgb_dis.fit(X_train, y_train)\n",
    "xgb_pred = xgb_dis.predict(X_test)\n",
    "\n",
    "# 훈련 정확도 확인\n",
    "print(xgb_dis.score(X_train, y_train))\n",
    "\n",
    "# 성능 평가\n",
    "get_confusion_matrix(y_test, xgb_pred)\n"
   ]
  },
  {
   "cell_type": "code",
   "execution_count": 14,
   "id": "0c94060e",
   "metadata": {
    "execution": {
     "iopub.execute_input": "2024-05-15T04:47:12.926329Z",
     "iopub.status.busy": "2024-05-15T04:47:12.925750Z",
     "iopub.status.idle": "2024-05-15T05:08:42.578011Z",
     "shell.execute_reply": "2024-05-15T05:08:42.576956Z"
    },
    "papermill": {
     "duration": 1289.67061,
     "end_time": "2024-05-15T05:08:42.587676",
     "exception": false,
     "start_time": "2024-05-15T04:47:12.917066",
     "status": "completed"
    },
    "tags": []
   },
   "outputs": [
    {
     "name": "stdout",
     "output_type": "stream",
     "text": [
      "best parameter:\n",
      " {'bootstrap': True, 'max_depth': 4, 'max_features': 4, 'min_samples_leaf': 4, 'min_samples_split': 8, 'n_estimators': 100}\n",
      "best prediction: 0.5603\n"
     ]
    }
   ],
   "source": [
    "# 랜덤 포레스트 매개변수 설정\n",
    "n_estimators = range(10, 200, 10)\n",
    "params = {\n",
    "    'bootstrap': [True],\n",
    "    'n_estimators': n_estimators,\n",
    "    'max_depth': [4, 6, 8, 10, 12],\n",
    "    'min_samples_leaf': [2, 3, 4, 5],\n",
    "    'min_samples_split': [2, 4, 6, 8, 10],\n",
    "    'max_features': [4]\n",
    "}\n",
    "\n",
    "# 교차 검증 설정\n",
    "my_cv = TimeSeriesSplit(n_splits=5).split(X_train)\n",
    "\n",
    "# GridSearchCV를 사용한 모델 학습\n",
    "clf = GridSearchCV(RandomForestClassifier(), params, cv=my_cv, n_jobs=-1)\n",
    "clf.fit(X_train, y_train)\n",
    "\n",
    "# 최적의 매개변수와 정확도 출력\n",
    "print('best parameter:\\n', clf.best_params_)\n",
    "print('best prediction: {0:.4f}'.format(clf.best_score_))"
   ]
  },
  {
   "cell_type": "code",
   "execution_count": 15,
   "id": "9996f9ee",
   "metadata": {
    "execution": {
     "iopub.execute_input": "2024-05-15T05:08:42.605634Z",
     "iopub.status.busy": "2024-05-15T05:08:42.605256Z",
     "iopub.status.idle": "2024-05-15T05:08:42.633547Z",
     "shell.execute_reply": "2024-05-15T05:08:42.632605Z"
    },
    "papermill": {
     "duration": 0.039452,
     "end_time": "2024-05-15T05:08:42.635454",
     "exception": false,
     "start_time": "2024-05-15T05:08:42.596002",
     "status": "completed"
    },
    "tags": []
   },
   "outputs": [
    {
     "name": "stdout",
     "output_type": "stream",
     "text": [
      "accuracy: 0.5061\n",
      "confusion matrix\n",
      "[[213 171]\n",
      " [233 201]]\n",
      "accuracy: 0.5061, precision: 0.5403, recall: 0.4631, F1: 0.4988, ROC AUC score: 0.5089\n"
     ]
    }
   ],
   "source": [
    "# 테스트셋에서의 성능 확인\n",
    "pred_con = clf.predict(X_test)\n",
    "accuracy_con = accuracy_score(y_test, pred_con)\n",
    "print('accuracy: {0:.4f}'.format(accuracy_con))\n",
    "get_confusion_matrix(y_test, pred_con)\n"
   ]
  },
  {
   "cell_type": "code",
   "execution_count": 16,
   "id": "13fcda5b",
   "metadata": {
    "execution": {
     "iopub.execute_input": "2024-05-15T05:08:42.651535Z",
     "iopub.status.busy": "2024-05-15T05:08:42.651274Z",
     "iopub.status.idle": "2024-05-15T05:08:42.662425Z",
     "shell.execute_reply": "2024-05-15T05:08:42.661605Z"
    },
    "papermill": {
     "duration": 0.021451,
     "end_time": "2024-05-15T05:08:42.664409",
     "exception": false,
     "start_time": "2024-05-15T05:08:42.642958",
     "status": "completed"
    },
    "tags": []
   },
   "outputs": [
    {
     "data": {
      "text/plain": [
       "count    2725.000000\n",
       "mean        0.000271\n",
       "std         0.013029\n",
       "min        -0.098448\n",
       "25%        -0.004321\n",
       "50%         0.000545\n",
       "75%         0.005791\n",
       "max         0.128249\n",
       "Name: pct_change, dtype: float64"
      ]
     },
     "execution_count": 16,
     "metadata": {},
     "output_type": "execute_result"
    }
   ],
   "source": [
    "# 타겟 변수 통계 확인\n",
    "df['pct_change'].describe()"
   ]
  },
  {
   "cell_type": "code",
   "execution_count": 17,
   "id": "0d28b601",
   "metadata": {
    "execution": {
     "iopub.execute_input": "2024-05-15T05:08:42.680339Z",
     "iopub.status.busy": "2024-05-15T05:08:42.680099Z",
     "iopub.status.idle": "2024-05-15T05:08:42.683718Z",
     "shell.execute_reply": "2024-05-15T05:08:42.682914Z"
    },
    "papermill": {
     "duration": 0.01386,
     "end_time": "2024-05-15T05:08:42.685676",
     "exception": false,
     "start_time": "2024-05-15T05:08:42.671816",
     "status": "completed"
    },
    "tags": []
   },
   "outputs": [],
   "source": [
    "# target 변수를 수정해 진행"
   ]
  },
  {
   "cell_type": "code",
   "execution_count": 18,
   "id": "0a00c82f",
   "metadata": {
    "execution": {
     "iopub.execute_input": "2024-05-15T05:08:42.701698Z",
     "iopub.status.busy": "2024-05-15T05:08:42.701461Z",
     "iopub.status.idle": "2024-05-15T05:08:42.709820Z",
     "shell.execute_reply": "2024-05-15T05:08:42.708899Z"
    },
    "papermill": {
     "duration": 0.018518,
     "end_time": "2024-05-15T05:08:42.711762",
     "exception": false,
     "start_time": "2024-05-15T05:08:42.693244",
     "status": "completed"
    },
    "tags": []
   },
   "outputs": [
    {
     "data": {
      "text/plain": [
       "target\n",
       " 1    1375\n",
       "-1    1350\n",
       "Name: count, dtype: int64"
      ]
     },
     "execution_count": 18,
     "metadata": {},
     "output_type": "execute_result"
    }
   ],
   "source": [
    "# 타겟 변수 정의 변경 (0.0005% 이상의 수익률)\n",
    "df['target'] = np.where(df['pct_change'] > 0.0005, 1, -1)\n",
    "df['target'].value_counts()\n"
   ]
  },
  {
   "cell_type": "code",
   "execution_count": 19,
   "id": "9601a879",
   "metadata": {
    "execution": {
     "iopub.execute_input": "2024-05-15T05:08:42.728223Z",
     "iopub.status.busy": "2024-05-15T05:08:42.727968Z",
     "iopub.status.idle": "2024-05-15T05:08:42.738971Z",
     "shell.execute_reply": "2024-05-15T05:08:42.738039Z"
    },
    "papermill": {
     "duration": 0.021601,
     "end_time": "2024-05-15T05:08:42.740963",
     "exception": false,
     "start_time": "2024-05-15T05:08:42.719362",
     "status": "completed"
    },
    "tags": []
   },
   "outputs": [],
   "source": [
    "\n",
    "# 타겟 변수를 한 행 앞으로 이동\n",
    "df['target'] = df['target'].shift(-1)\n",
    "df = df.dropna()\n",
    "\n",
    "# 타겟 변수를 1과 0으로 변환\n",
    "df['target'] = df['target'].replace(-1, 0)\n",
    "df['target'].value_counts()  # 변환된 결과 확인\n",
    "\n",
    "# 설명 변수와 타겟 변수 분리\n",
    "y_var = df['target']\n",
    "x_var = df.drop(['target', 'OPEN', 'HIGH', 'LOW', 'VOLUME', 'CLOSE_SPY', 'pct_change'], axis=1)\n",
    "\n",
    "# 훈련셋과 테스트셋 분할\n",
    "X_train, X_test, y_train, y_test = train_test_split(x_var, y_var, test_size=0.3, shuffle=False, random_state=3)"
   ]
  },
  {
   "cell_type": "code",
   "execution_count": 20,
   "id": "870581e7",
   "metadata": {
    "execution": {
     "iopub.execute_input": "2024-05-15T05:08:42.757306Z",
     "iopub.status.busy": "2024-05-15T05:08:42.757053Z",
     "iopub.status.idle": "2024-05-15T05:30:12.695636Z",
     "shell.execute_reply": "2024-05-15T05:30:12.694733Z"
    },
    "papermill": {
     "duration": 1289.957319,
     "end_time": "2024-05-15T05:30:12.705848",
     "exception": false,
     "start_time": "2024-05-15T05:08:42.748529",
     "status": "completed"
    },
    "tags": []
   },
   "outputs": [
    {
     "data": {
      "text/html": [
       "<style>#sk-container-id-1 {color: black;background-color: white;}#sk-container-id-1 pre{padding: 0;}#sk-container-id-1 div.sk-toggleable {background-color: white;}#sk-container-id-1 label.sk-toggleable__label {cursor: pointer;display: block;width: 100%;margin-bottom: 0;padding: 0.3em;box-sizing: border-box;text-align: center;}#sk-container-id-1 label.sk-toggleable__label-arrow:before {content: \"▸\";float: left;margin-right: 0.25em;color: #696969;}#sk-container-id-1 label.sk-toggleable__label-arrow:hover:before {color: black;}#sk-container-id-1 div.sk-estimator:hover label.sk-toggleable__label-arrow:before {color: black;}#sk-container-id-1 div.sk-toggleable__content {max-height: 0;max-width: 0;overflow: hidden;text-align: left;background-color: #f0f8ff;}#sk-container-id-1 div.sk-toggleable__content pre {margin: 0.2em;color: black;border-radius: 0.25em;background-color: #f0f8ff;}#sk-container-id-1 input.sk-toggleable__control:checked~div.sk-toggleable__content {max-height: 200px;max-width: 100%;overflow: auto;}#sk-container-id-1 input.sk-toggleable__control:checked~label.sk-toggleable__label-arrow:before {content: \"▾\";}#sk-container-id-1 div.sk-estimator input.sk-toggleable__control:checked~label.sk-toggleable__label {background-color: #d4ebff;}#sk-container-id-1 div.sk-label input.sk-toggleable__control:checked~label.sk-toggleable__label {background-color: #d4ebff;}#sk-container-id-1 input.sk-hidden--visually {border: 0;clip: rect(1px 1px 1px 1px);clip: rect(1px, 1px, 1px, 1px);height: 1px;margin: -1px;overflow: hidden;padding: 0;position: absolute;width: 1px;}#sk-container-id-1 div.sk-estimator {font-family: monospace;background-color: #f0f8ff;border: 1px dotted black;border-radius: 0.25em;box-sizing: border-box;margin-bottom: 0.5em;}#sk-container-id-1 div.sk-estimator:hover {background-color: #d4ebff;}#sk-container-id-1 div.sk-parallel-item::after {content: \"\";width: 100%;border-bottom: 1px solid gray;flex-grow: 1;}#sk-container-id-1 div.sk-label:hover label.sk-toggleable__label {background-color: #d4ebff;}#sk-container-id-1 div.sk-serial::before {content: \"\";position: absolute;border-left: 1px solid gray;box-sizing: border-box;top: 0;bottom: 0;left: 50%;z-index: 0;}#sk-container-id-1 div.sk-serial {display: flex;flex-direction: column;align-items: center;background-color: white;padding-right: 0.2em;padding-left: 0.2em;position: relative;}#sk-container-id-1 div.sk-item {position: relative;z-index: 1;}#sk-container-id-1 div.sk-parallel {display: flex;align-items: stretch;justify-content: center;background-color: white;position: relative;}#sk-container-id-1 div.sk-item::before, #sk-container-id-1 div.sk-parallel-item::before {content: \"\";position: absolute;border-left: 1px solid gray;box-sizing: border-box;top: 0;bottom: 0;left: 50%;z-index: -1;}#sk-container-id-1 div.sk-parallel-item {display: flex;flex-direction: column;z-index: 1;position: relative;background-color: white;}#sk-container-id-1 div.sk-parallel-item:first-child::after {align-self: flex-end;width: 50%;}#sk-container-id-1 div.sk-parallel-item:last-child::after {align-self: flex-start;width: 50%;}#sk-container-id-1 div.sk-parallel-item:only-child::after {width: 0;}#sk-container-id-1 div.sk-dashed-wrapped {border: 1px dashed gray;margin: 0 0.4em 0.5em 0.4em;box-sizing: border-box;padding-bottom: 0.4em;background-color: white;}#sk-container-id-1 div.sk-label label {font-family: monospace;font-weight: bold;display: inline-block;line-height: 1.2em;}#sk-container-id-1 div.sk-label-container {text-align: center;}#sk-container-id-1 div.sk-container {/* jupyter's `normalize.less` sets `[hidden] { display: none; }` but bootstrap.min.css set `[hidden] { display: none !important; }` so we also need the `!important` here to be able to override the default hidden behavior on the sphinx rendered scikit-learn.org. See: https://github.com/scikit-learn/scikit-learn/issues/21755 */display: inline-block !important;position: relative;}#sk-container-id-1 div.sk-text-repr-fallback {display: none;}</style><div id=\"sk-container-id-1\" class=\"sk-top-container\"><div class=\"sk-text-repr-fallback\"><pre>GridSearchCV(cv=&lt;generator object TimeSeriesSplit.split at 0x7f9104530900&gt;,\n",
       "             estimator=RandomForestClassifier(), n_jobs=-1,\n",
       "             param_grid={&#x27;bootstrap&#x27;: [True], &#x27;max_depth&#x27;: [4, 6, 8, 10, 12],\n",
       "                         &#x27;max_features&#x27;: [4], &#x27;min_samples_leaf&#x27;: [2, 3, 4, 5],\n",
       "                         &#x27;min_samples_split&#x27;: [2, 4, 6, 8, 10],\n",
       "                         &#x27;n_estimators&#x27;: range(10, 200, 10)})</pre><b>In a Jupyter environment, please rerun this cell to show the HTML representation or trust the notebook. <br />On GitHub, the HTML representation is unable to render, please try loading this page with nbviewer.org.</b></div><div class=\"sk-container\" hidden><div class=\"sk-item sk-dashed-wrapped\"><div class=\"sk-label-container\"><div class=\"sk-label sk-toggleable\"><input class=\"sk-toggleable__control sk-hidden--visually\" id=\"sk-estimator-id-1\" type=\"checkbox\" ><label for=\"sk-estimator-id-1\" class=\"sk-toggleable__label sk-toggleable__label-arrow\">GridSearchCV</label><div class=\"sk-toggleable__content\"><pre>GridSearchCV(cv=&lt;generator object TimeSeriesSplit.split at 0x7f9104530900&gt;,\n",
       "             estimator=RandomForestClassifier(), n_jobs=-1,\n",
       "             param_grid={&#x27;bootstrap&#x27;: [True], &#x27;max_depth&#x27;: [4, 6, 8, 10, 12],\n",
       "                         &#x27;max_features&#x27;: [4], &#x27;min_samples_leaf&#x27;: [2, 3, 4, 5],\n",
       "                         &#x27;min_samples_split&#x27;: [2, 4, 6, 8, 10],\n",
       "                         &#x27;n_estimators&#x27;: range(10, 200, 10)})</pre></div></div></div><div class=\"sk-parallel\"><div class=\"sk-parallel-item\"><div class=\"sk-item\"><div class=\"sk-label-container\"><div class=\"sk-label sk-toggleable\"><input class=\"sk-toggleable__control sk-hidden--visually\" id=\"sk-estimator-id-2\" type=\"checkbox\" ><label for=\"sk-estimator-id-2\" class=\"sk-toggleable__label sk-toggleable__label-arrow\">estimator: RandomForestClassifier</label><div class=\"sk-toggleable__content\"><pre>RandomForestClassifier()</pre></div></div></div><div class=\"sk-serial\"><div class=\"sk-item\"><div class=\"sk-estimator sk-toggleable\"><input class=\"sk-toggleable__control sk-hidden--visually\" id=\"sk-estimator-id-3\" type=\"checkbox\" ><label for=\"sk-estimator-id-3\" class=\"sk-toggleable__label sk-toggleable__label-arrow\">RandomForestClassifier</label><div class=\"sk-toggleable__content\"><pre>RandomForestClassifier()</pre></div></div></div></div></div></div></div></div></div></div>"
      ],
      "text/plain": [
       "GridSearchCV(cv=<generator object TimeSeriesSplit.split at 0x7f9104530900>,\n",
       "             estimator=RandomForestClassifier(), n_jobs=-1,\n",
       "             param_grid={'bootstrap': [True], 'max_depth': [4, 6, 8, 10, 12],\n",
       "                         'max_features': [4], 'min_samples_leaf': [2, 3, 4, 5],\n",
       "                         'min_samples_split': [2, 4, 6, 8, 10],\n",
       "                         'n_estimators': range(10, 200, 10)})"
      ]
     },
     "execution_count": 20,
     "metadata": {},
     "output_type": "execute_result"
    }
   ],
   "source": [
    "\n",
    "# 랜덤 포레스트 매개변수 설정\n",
    "n_estimators = range(10, 200, 10)\n",
    "params = {\n",
    "    'bootstrap': [True],\n",
    "    'n_estimators': n_estimators,\n",
    "    'max_depth': [4, 6, 8, 10, 12],\n",
    "    'min_samples_leaf': [2, 3, 4, 5],\n",
    "    'min_samples_split': [2, 4, 6, 8, 10],\n",
    "    'max_features': [4]\n",
    "}\n",
    "\n",
    "# 교차 검증 설정\n",
    "my_cv = TimeSeriesSplit(n_splits=5).split(X_train)\n",
    "\n",
    "# GridSearchCV를 사용한 모델 학습\n",
    "clf = GridSearchCV(RandomForestClassifier(), params, cv=my_cv, n_jobs=-1)\n",
    "clf.fit(X_train, y_train)\n"
   ]
  },
  {
   "cell_type": "code",
   "execution_count": 21,
   "id": "4008d0ff",
   "metadata": {
    "execution": {
     "iopub.execute_input": "2024-05-15T05:30:12.722831Z",
     "iopub.status.busy": "2024-05-15T05:30:12.722566Z",
     "iopub.status.idle": "2024-05-15T05:30:12.726888Z",
     "shell.execute_reply": "2024-05-15T05:30:12.726100Z"
    },
    "papermill": {
     "duration": 0.015366,
     "end_time": "2024-05-15T05:30:12.729221",
     "exception": false,
     "start_time": "2024-05-15T05:30:12.713855",
     "status": "completed"
    },
    "tags": []
   },
   "outputs": [
    {
     "name": "stdout",
     "output_type": "stream",
     "text": [
      "best parameter:\n",
      " {'bootstrap': True, 'max_depth': 4, 'max_features': 4, 'min_samples_leaf': 5, 'min_samples_split': 4, 'n_estimators': 10}\n",
      "best prediction: 0.5363\n"
     ]
    }
   ],
   "source": [
    "# 최적의 매개변수와 정확도 출력\n",
    "print('best parameter:\\n', clf.best_params_)\n",
    "print('best prediction: {0:.4f}'.format(clf.best_score_))"
   ]
  },
  {
   "cell_type": "code",
   "execution_count": 22,
   "id": "fd36d5fd",
   "metadata": {
    "execution": {
     "iopub.execute_input": "2024-05-15T05:30:12.746766Z",
     "iopub.status.busy": "2024-05-15T05:30:12.746039Z",
     "iopub.status.idle": "2024-05-15T05:30:12.765961Z",
     "shell.execute_reply": "2024-05-15T05:30:12.764910Z"
    },
    "papermill": {
     "duration": 0.030556,
     "end_time": "2024-05-15T05:30:12.767831",
     "exception": false,
     "start_time": "2024-05-15T05:30:12.737275",
     "status": "completed"
    },
    "tags": []
   },
   "outputs": [
    {
     "name": "stdout",
     "output_type": "stream",
     "text": [
      "accuracy: 0.5196\n",
      "confusion matrix\n",
      "[[326  89]\n",
      " [304  99]]\n",
      "accuracy: 0.5196, precision: 0.5266, recall: 0.2457, F1: 0.3350, ROC AUC score: 0.5156\n"
     ]
    }
   ],
   "source": [
    "\n",
    "# 테스트셋에서의 성능 확인\n",
    "pred_con = clf.predict(X_test)\n",
    "accuracy_con = accuracy_score(y_test, pred_con)\n",
    "print('accuracy: {0:.4f}'.format(accuracy_con))\n",
    "get_confusion_matrix(y_test, pred_con)\n"
   ]
  },
  {
   "cell_type": "code",
   "execution_count": null,
   "id": "7ca166f1",
   "metadata": {
    "papermill": {
     "duration": 0.007732,
     "end_time": "2024-05-15T05:30:12.783571",
     "exception": false,
     "start_time": "2024-05-15T05:30:12.775839",
     "status": "completed"
    },
    "tags": []
   },
   "outputs": [],
   "source": []
  }
 ],
 "metadata": {
  "kaggle": {
   "accelerator": "nvidiaTeslaT4",
   "dataSources": [
    {
     "datasetId": 5009199,
     "sourceId": 8415550,
     "sourceType": "datasetVersion"
    }
   ],
   "dockerImageVersionId": 30699,
   "isGpuEnabled": true,
   "isInternetEnabled": true,
   "language": "python",
   "sourceType": "notebook"
  },
  "kernelspec": {
   "display_name": "Python 3",
   "language": "python",
   "name": "python3"
  },
  "language_info": {
   "codemirror_mode": {
    "name": "ipython",
    "version": 3
   },
   "file_extension": ".py",
   "mimetype": "text/x-python",
   "name": "python",
   "nbconvert_exporter": "python",
   "pygments_lexer": "ipython3",
   "version": "3.10.13"
  },
  "papermill": {
   "default_parameters": {},
   "duration": 2588.808395,
   "end_time": "2024-05-15T05:30:15.417275",
   "environment_variables": {},
   "exception": null,
   "input_path": "__notebook__.ipynb",
   "output_path": "__notebook__.ipynb",
   "parameters": {},
   "start_time": "2024-05-15T04:47:06.608880",
   "version": "2.5.0"
  }
 },
 "nbformat": 4,
 "nbformat_minor": 5
}
